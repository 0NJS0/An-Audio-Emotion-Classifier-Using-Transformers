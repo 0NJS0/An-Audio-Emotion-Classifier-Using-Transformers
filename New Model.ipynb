{
 "cells": [
  {
   "cell_type": "markdown",
   "metadata": {
    "id": "_IZVke2Yv3fp"
   },
   "source": [
    "**Modules**\n",
    "os to deal with the data\n",
    "visualization: seaborn, matplotlib\n",
    "audio visualization:librosa\n",
    "play audio: Iputhon Audio"
   ]
  },
  {
   "cell_type": "code",
   "execution_count": 1,
   "metadata": {
    "id": "Tz_0w8A1v5XM"
   },
   "outputs": [],
   "source": [
    "import os\n",
    "import torch\n",
    "import torch.nn as nn\n",
    "import torch.optim as optim\n",
    "import torchaudio\n",
    "import torchaudio.transforms as T\n",
    "import numpy as np\n",
    "import pandas as pd\n",
    "from sklearn.preprocessing import LabelEncoder, StandardScaler\n",
    "from sklearn.model_selection import train_test_split, StratifiedKFold\n",
    "from sklearn.utils.class_weight import compute_class_weight\n",
    "from sklearn.metrics import confusion_matrix, ConfusionMatrixDisplay\n",
    "from torch.utils.data import Dataset, DataLoader\n",
    "from tqdm import tqdm\n",
    "import matplotlib.pyplot as plt"
   ]
  },
  {
   "cell_type": "code",
   "execution_count": 2,
   "metadata": {},
   "outputs": [],
   "source": [
    "torch.cuda.empty_cache()"
   ]
  },
  {
   "cell_type": "code",
   "execution_count": 3,
   "metadata": {},
   "outputs": [
    {
     "name": "stdout",
     "output_type": "stream",
     "text": [
      "True\n",
      "12.6\n"
     ]
    }
   ],
   "source": [
    "import torch\n",
    "print(torch.cuda.is_available())  # Should be True\n",
    "print(torch.version.cuda)"
   ]
  },
  {
   "cell_type": "code",
   "execution_count": 4,
   "metadata": {},
   "outputs": [],
   "source": [
    "SAMPLE_RATE = 22050\n",
    "N_MFCC = 50\n",
    "BATCH_SIZE = 60\n",
    "LEARNING_RATE = 0.01\n",
    "EPOCHS = 750"
   ]
  },
  {
   "cell_type": "code",
   "execution_count": 5,
   "metadata": {},
   "outputs": [],
   "source": [
    "DATASET_PATH = \"C:/Users/NJS/Desktop/Thesis/RAVDESS_DATASET\"\n",
    "\n",
    "device = torch.device(\"cuda\" if torch.cuda.is_available() else \"cpu\")"
   ]
  },
  {
   "cell_type": "code",
   "execution_count": 6,
   "metadata": {},
   "outputs": [],
   "source": [
    "def extract_mfcc_sequence(waveform):\n",
    "    if waveform.shape[0] > 1:\n",
    "        waveform = waveform.mean(dim=0, keepdim=True)\n",
    "    mfcc_transform = T.MFCC(\n",
    "        sample_rate=SAMPLE_RATE,\n",
    "        n_mfcc=N_MFCC,\n",
    "        melkwargs={'n_fft': 1024, 'hop_length': 512, 'n_mels': 128}\n",
    "    )\n",
    "    mfcc = mfcc_transform(waveform)\n",
    "    mfcc = mfcc.squeeze(0).transpose(0, 1)\n",
    "    return mfcc"
   ]
  },
  {
   "cell_type": "code",
   "execution_count": 7,
   "metadata": {},
   "outputs": [],
   "source": [
    "def extract_prosodic_features(waveform, sample_rate=SAMPLE_RATE):\n",
    "    pitch = torchaudio.functional.detect_pitch_frequency(waveform, sample_rate)\n",
    "    pitch = pitch[pitch > 0]  # filter out zeros\n",
    "    if pitch.numel() == 0:\n",
    "        pitch_mean, pitch_std = 0.0, 0.0\n",
    "    else:\n",
    "        pitch_mean, pitch_std = pitch.mean().item(), pitch.std().item()\n",
    "    energy = waveform.pow(2).mean().sqrt().item()\n",
    "    return torch.tensor([pitch_mean, pitch_std, energy], dtype=torch.float32)"
   ]
  },
  {
   "cell_type": "code",
   "execution_count": 8,
   "metadata": {},
   "outputs": [],
   "source": [
    "def pad_sequence(sequences):\n",
    "    lengths = [s.shape[0] for s in sequences]\n",
    "    max_len = max(lengths)\n",
    "    padded = torch.zeros(len(sequences), max_len, sequences[0].shape[1])\n",
    "    for i, seq in enumerate(sequences):\n",
    "        end = lengths[i]\n",
    "        if isinstance(seq, torch.Tensor):\n",
    "            padded[i, :end, :] = seq.detach().clone()\n",
    "        else:\n",
    "            padded[i, :end, :] = torch.tensor(seq, dtype=torch.float32)\n",
    "    return padded"
   ]
  },
  {
   "cell_type": "code",
   "execution_count": 9,
   "metadata": {},
   "outputs": [],
   "source": [
    "def load_dataset(path):\n",
    "    files = []\n",
    "    labels = []\n",
    "    for dirname, _, filenames in os.walk(path):\n",
    "        for filename in filenames:\n",
    "            if filename.endswith(\".wav\"):\n",
    "                full_path = os.path.join(dirname, filename)\n",
    "                emotion = os.path.basename(dirname).lower()\n",
    "                files.append(full_path)\n",
    "                labels.append(emotion)\n",
    "    df = pd.DataFrame({\"path\": files, \"label\": labels})\n",
    "    return df\n"
   ]
  },
  {
   "cell_type": "code",
   "execution_count": 10,
   "metadata": {},
   "outputs": [],
   "source": [
    "class SERDataset(Dataset):\n",
    "    def __init__(self, dataframe, label_encoder, scaler):\n",
    "        self.paths = dataframe['path'].values\n",
    "        self.labels = label_encoder.transform(dataframe['label'].values)\n",
    "        self.scaler = scaler\n",
    "\n",
    "    def __len__(self):\n",
    "        return len(self.paths)\n",
    "\n",
    "    def __getitem__(self, idx):\n",
    "        waveform, sr = torchaudio.load(self.paths[idx])\n",
    "        if sr != SAMPLE_RATE:\n",
    "            resample = T.Resample(orig_freq=sr, new_freq=SAMPLE_RATE)\n",
    "            waveform = resample(waveform)\n",
    "        mfcc = extract_mfcc_sequence(waveform)\n",
    "        prosodic = extract_prosodic_features(waveform)\n",
    "        mfcc = self.scaler.transform(mfcc.cpu().numpy())\n",
    "        prosodic = prosodic_scaler.transform(prosodic.unsqueeze(0).numpy()).squeeze(0)\n",
    "        prosodic = torch.tensor(prosodic, dtype=torch.float32)\n",
    "        return torch.tensor(mfcc, dtype=torch.float32), prosodic, torch.tensor(self.labels[idx], dtype=torch.long)"
   ]
  },
  {
   "cell_type": "code",
   "execution_count": 11,
   "metadata": {},
   "outputs": [],
   "source": [
    "def collate_fn(batch):\n",
    "    sequences, prosodics, labels = zip(*batch)\n",
    "    sequences_padded = pad_sequence(sequences)\n",
    "    prosodics = torch.stack(prosodics).float()\n",
    "    labels = torch.stack(labels)\n",
    "    return sequences_padded, prosodics, labels"
   ]
  },
  {
   "cell_type": "code",
   "execution_count": 12,
   "metadata": {},
   "outputs": [],
   "source": [
    "class AttentionPooling(nn.Module):\n",
    "    def __init__(self, dim):\n",
    "        super().__init__()\n",
    "        self.attention = nn.Sequential(\n",
    "            nn.Linear(dim, 128),\n",
    "            nn.Tanh(),\n",
    "            nn.Linear(128, 1)\n",
    "        )\n",
    "\n",
    "    def forward(self, x):\n",
    "        weights = self.attention(x)\n",
    "        weights = torch.softmax(weights, dim=1)\n",
    "        return (x * weights).sum(dim=1)"
   ]
  },
  {
   "cell_type": "code",
   "execution_count": 13,
   "metadata": {},
   "outputs": [],
   "source": [
    "class HybridLSTMTransformer(nn.Module):\n",
    "    def __init__(self, num_classes):\n",
    "        super().__init__()\n",
    "        self.lstm = nn.LSTM(input_size=N_MFCC, hidden_size=64, batch_first=True)\n",
    "        encoder_layer = nn.TransformerEncoderLayer(\n",
    "            d_model=64, nhead=4, dim_feedforward=512, dropout=0.3, batch_first=True\n",
    "        )\n",
    "        self.transformer = nn.TransformerEncoder(encoder_layer, num_layers=4)\n",
    "        self.attn_pool = AttentionPooling(64)\n",
    "        self.fc = nn.Sequential(\n",
    "            nn.Linear(64 + 3, 128),\n",
    "            nn.ReLU(),\n",
    "            nn.Linear(128, 64),\n",
    "            nn.ReLU(),\n",
    "            nn.Dropout(0.3),\n",
    "            nn.Linear(64, num_classes)\n",
    "        )\n",
    "\n",
    "    def forward(self, x, prosodic):\n",
    "        lstm_out, _ = self.lstm(x)\n",
    "        trans_out = self.transformer(lstm_out)\n",
    "        pooled = self.attn_pool(trans_out)\n",
    "        fused = torch.cat([pooled, prosodic], dim=1)\n",
    "        return self.fc(fused)"
   ]
  },
  {
   "cell_type": "code",
   "execution_count": null,
   "metadata": {},
   "outputs": [],
   "source": [
    "def train_model(model, train_loader, val_loader, criterion, optimizer, patience=10):\n",
    "    best_acc = 0\n",
    "    all_preds = []\n",
    "    all_labels = []\n",
    "    train_losses, val_accuracies = [], []\n",
    "\n",
    "    best_acc = 0\n",
    "    best_epoch = 0\n",
    "    no_improve_counter = 0\n",
    "\n",
    "    for epoch in range(EPOCHS):\n",
    "        model.train()\n",
    "        running_loss = 0\n",
    "        for x, p, y in tqdm(train_loader, desc=f\"Epoch {epoch+1}/{EPOCHS}\"):\n",
    "            x, p, y = x.to(device), p.to(device), y.to(device)\n",
    "            optimizer.zero_grad()\n",
    "            output = model(x, p)\n",
    "            loss = criterion(output, y)\n",
    "            loss.backward()\n",
    "            optimizer.step()\n",
    "            running_loss += loss.item()\n",
    "\n",
    "        train_losses.append(running_loss / len(train_loader))\n",
    "\n",
    "        model.eval()\n",
    "        correct, total = 0, 0\n",
    "        all_preds.clear()\n",
    "        all_labels.clear()\n",
    "        with torch.no_grad():\n",
    "            for x, p, y in val_loader:\n",
    "                x, p, y = x.to(device), p.to(device), y.to(device)\n",
    "                output = model(x, p)\n",
    "                preds = output.argmax(dim=1)\n",
    "                all_preds.extend(preds.cpu().numpy())\n",
    "                all_labels.extend(y.cpu().numpy())\n",
    "                correct += (preds == y).sum().item()\n",
    "                total += y.size(0)\n",
    "        acc = correct / total\n",
    "        val_accuracies.append(acc)\n",
    "\n",
    "        print(f\"Epoch {epoch+1}: Train Loss = {running_loss:.4f}, Val Acc = {acc*100:.2f}%\")\n",
    "        if acc > best_acc:\n",
    "            best_acc = acc\n",
    "            best_epoch = epoch\n",
    "            no_improve_counter = 0\n",
    "            torch.save(model.state_dict(), \"best_hybrid_model.pth\")\n",
    "            print(\"Model saved.\")\n",
    "        else:\n",
    "            no_improve_counter += 1\n",
    "\n",
    "        scheduler.step(acc)\n",
    "\n",
    "        if no_improve_counter >= patience:\n",
    "            print(f\"Early stopping triggered at epoch {epoch+1}. Best epoch was {best_epoch+1}.\")\n",
    "            break\n",
    "\n",
    "    cm = confusion_matrix(all_labels, all_preds)\n",
    "    disp = ConfusionMatrixDisplay(confusion_matrix=cm, display_labels=label_encoder.classes_)\n",
    "    disp.plot(cmap='Blues', xticks_rotation=45)\n",
    "    plt.title(\"Confusion Matrix\")\n",
    "    plt.tight_layout()\n",
    "    plt.show()\n",
    "\n",
    "    plt.figure(figsize=(12, 5))\n",
    "    plt.subplot(1, 2, 1)\n",
    "    plt.plot(train_losses, label='Train Loss')\n",
    "    plt.xlabel('Epoch')\n",
    "    plt.ylabel('Loss')\n",
    "    plt.title('Training Loss')\n",
    "    plt.legend()\n",
    "\n",
    "    plt.subplot(1, 2, 2)\n",
    "    plt.plot(val_accuracies, label='Validation Accuracy')\n",
    "    plt.xlabel('Epoch')\n",
    "    plt.ylabel('Accuracy')\n",
    "    plt.title('Validation Accuracy')\n",
    "    plt.legend()\n",
    "    plt.tight_layout()\n",
    "    plt.show()"
   ]
  },
  {
   "cell_type": "code",
   "execution_count": 15,
   "metadata": {},
   "outputs": [
    {
     "name": "stderr",
     "output_type": "stream",
     "text": [
      "Epoch 1/750:   0%|          | 0/22 [00:02<?, ?it/s]"
     ]
    },
    {
     "name": "stdout",
     "output_type": "stream",
     "text": [
      "[Debug] model.device: cuda:0, x.device: cpu, p.device: cpu, y.device: cpu\n"
     ]
    },
    {
     "name": "stderr",
     "output_type": "stream",
     "text": [
      "\n"
     ]
    },
    {
     "name": "stdout",
     "output_type": "stream",
     "text": [
      "Epoch 1: Train Loss = 0.0000, Val Acc = 12.50%\n",
      "Model saved.\n"
     ]
    },
    {
     "name": "stderr",
     "output_type": "stream",
     "text": [
      "Epoch 2/750:   0%|          | 0/22 [00:02<?, ?it/s]"
     ]
    },
    {
     "name": "stdout",
     "output_type": "stream",
     "text": [
      "[Debug] model.device: cuda:0, x.device: cpu, p.device: cpu, y.device: cpu\n"
     ]
    },
    {
     "name": "stderr",
     "output_type": "stream",
     "text": [
      "\n"
     ]
    },
    {
     "name": "stdout",
     "output_type": "stream",
     "text": [
      "Epoch 2: Train Loss = 0.0000, Val Acc = 12.50%\n"
     ]
    },
    {
     "name": "stderr",
     "output_type": "stream",
     "text": [
      "Epoch 3/750:   0%|          | 0/22 [00:02<?, ?it/s]"
     ]
    },
    {
     "name": "stdout",
     "output_type": "stream",
     "text": [
      "[Debug] model.device: cuda:0, x.device: cpu, p.device: cpu, y.device: cpu\n"
     ]
    },
    {
     "name": "stderr",
     "output_type": "stream",
     "text": [
      "\n"
     ]
    },
    {
     "name": "stdout",
     "output_type": "stream",
     "text": [
      "Epoch 3: Train Loss = 0.0000, Val Acc = 12.50%\n"
     ]
    },
    {
     "name": "stderr",
     "output_type": "stream",
     "text": [
      "Epoch 4/750:   0%|          | 0/22 [00:02<?, ?it/s]"
     ]
    },
    {
     "name": "stdout",
     "output_type": "stream",
     "text": [
      "[Debug] model.device: cuda:0, x.device: cpu, p.device: cpu, y.device: cpu\n"
     ]
    },
    {
     "name": "stderr",
     "output_type": "stream",
     "text": [
      "\n"
     ]
    },
    {
     "name": "stdout",
     "output_type": "stream",
     "text": [
      "Epoch 4: Train Loss = 0.0000, Val Acc = 12.50%\n"
     ]
    },
    {
     "name": "stderr",
     "output_type": "stream",
     "text": [
      "Epoch 5/750:   0%|          | 0/22 [00:02<?, ?it/s]"
     ]
    },
    {
     "name": "stdout",
     "output_type": "stream",
     "text": [
      "[Debug] model.device: cuda:0, x.device: cpu, p.device: cpu, y.device: cpu\n"
     ]
    },
    {
     "name": "stderr",
     "output_type": "stream",
     "text": [
      "\n"
     ]
    },
    {
     "ename": "KeyboardInterrupt",
     "evalue": "",
     "output_type": "error",
     "traceback": [
      "\u001b[1;31m---------------------------------------------------------------------------\u001b[0m",
      "\u001b[1;31mKeyboardInterrupt\u001b[0m                         Traceback (most recent call last)",
      "Cell \u001b[1;32mIn[15], line 34\u001b[0m\n\u001b[0;32m     31\u001b[0m optimizer \u001b[38;5;241m=\u001b[39m optim\u001b[38;5;241m.\u001b[39mSGD(model\u001b[38;5;241m.\u001b[39mparameters(), lr\u001b[38;5;241m=\u001b[39mLEARNING_RATE, momentum\u001b[38;5;241m=\u001b[39m\u001b[38;5;241m0.9\u001b[39m)\n\u001b[0;32m     32\u001b[0m scheduler \u001b[38;5;241m=\u001b[39m torch\u001b[38;5;241m.\u001b[39moptim\u001b[38;5;241m.\u001b[39mlr_scheduler\u001b[38;5;241m.\u001b[39mReduceLROnPlateau(optimizer, mode\u001b[38;5;241m=\u001b[39m\u001b[38;5;124m'\u001b[39m\u001b[38;5;124mmax\u001b[39m\u001b[38;5;124m'\u001b[39m, factor\u001b[38;5;241m=\u001b[39m\u001b[38;5;241m0.5\u001b[39m, patience\u001b[38;5;241m=\u001b[39m\u001b[38;5;241m5\u001b[39m)\n\u001b[1;32m---> 34\u001b[0m train_model(model, train_loader, val_loader, criterion, optimizer)\n",
      "Cell \u001b[1;32mIn[14], line 32\u001b[0m, in \u001b[0;36mtrain_model\u001b[1;34m(model, train_loader, val_loader, criterion, optimizer, patience)\u001b[0m\n\u001b[0;32m     30\u001b[0m all_labels\u001b[38;5;241m.\u001b[39mclear()\n\u001b[0;32m     31\u001b[0m \u001b[38;5;28;01mwith\u001b[39;00m torch\u001b[38;5;241m.\u001b[39mno_grad():\n\u001b[1;32m---> 32\u001b[0m     \u001b[38;5;28;01mfor\u001b[39;00m x, p, y \u001b[38;5;129;01min\u001b[39;00m val_loader:\n\u001b[0;32m     33\u001b[0m         x, p, y \u001b[38;5;241m=\u001b[39m x\u001b[38;5;241m.\u001b[39mto(device), p\u001b[38;5;241m.\u001b[39mto(device), y\u001b[38;5;241m.\u001b[39mto(device)\n\u001b[0;32m     34\u001b[0m         output \u001b[38;5;241m=\u001b[39m model(x, p)\n",
      "File \u001b[1;32mc:\\Users\\NJS\\anaconda3\\Lib\\site-packages\\torch\\utils\\data\\dataloader.py:733\u001b[0m, in \u001b[0;36m_BaseDataLoaderIter.__next__\u001b[1;34m(self)\u001b[0m\n\u001b[0;32m    730\u001b[0m \u001b[38;5;28;01mif\u001b[39;00m \u001b[38;5;28mself\u001b[39m\u001b[38;5;241m.\u001b[39m_sampler_iter \u001b[38;5;129;01mis\u001b[39;00m \u001b[38;5;28;01mNone\u001b[39;00m:\n\u001b[0;32m    731\u001b[0m     \u001b[38;5;66;03m# TODO(https://github.com/pytorch/pytorch/issues/76750)\u001b[39;00m\n\u001b[0;32m    732\u001b[0m     \u001b[38;5;28mself\u001b[39m\u001b[38;5;241m.\u001b[39m_reset()  \u001b[38;5;66;03m# type: ignore[call-arg]\u001b[39;00m\n\u001b[1;32m--> 733\u001b[0m data \u001b[38;5;241m=\u001b[39m \u001b[38;5;28mself\u001b[39m\u001b[38;5;241m.\u001b[39m_next_data()\n\u001b[0;32m    734\u001b[0m \u001b[38;5;28mself\u001b[39m\u001b[38;5;241m.\u001b[39m_num_yielded \u001b[38;5;241m+\u001b[39m\u001b[38;5;241m=\u001b[39m \u001b[38;5;241m1\u001b[39m\n\u001b[0;32m    735\u001b[0m \u001b[38;5;28;01mif\u001b[39;00m (\n\u001b[0;32m    736\u001b[0m     \u001b[38;5;28mself\u001b[39m\u001b[38;5;241m.\u001b[39m_dataset_kind \u001b[38;5;241m==\u001b[39m _DatasetKind\u001b[38;5;241m.\u001b[39mIterable\n\u001b[0;32m    737\u001b[0m     \u001b[38;5;129;01mand\u001b[39;00m \u001b[38;5;28mself\u001b[39m\u001b[38;5;241m.\u001b[39m_IterableDataset_len_called \u001b[38;5;129;01mis\u001b[39;00m \u001b[38;5;129;01mnot\u001b[39;00m \u001b[38;5;28;01mNone\u001b[39;00m\n\u001b[0;32m    738\u001b[0m     \u001b[38;5;129;01mand\u001b[39;00m \u001b[38;5;28mself\u001b[39m\u001b[38;5;241m.\u001b[39m_num_yielded \u001b[38;5;241m>\u001b[39m \u001b[38;5;28mself\u001b[39m\u001b[38;5;241m.\u001b[39m_IterableDataset_len_called\n\u001b[0;32m    739\u001b[0m ):\n",
      "File \u001b[1;32mc:\\Users\\NJS\\anaconda3\\Lib\\site-packages\\torch\\utils\\data\\dataloader.py:789\u001b[0m, in \u001b[0;36m_SingleProcessDataLoaderIter._next_data\u001b[1;34m(self)\u001b[0m\n\u001b[0;32m    787\u001b[0m \u001b[38;5;28;01mdef\u001b[39;00m \u001b[38;5;21m_next_data\u001b[39m(\u001b[38;5;28mself\u001b[39m):\n\u001b[0;32m    788\u001b[0m     index \u001b[38;5;241m=\u001b[39m \u001b[38;5;28mself\u001b[39m\u001b[38;5;241m.\u001b[39m_next_index()  \u001b[38;5;66;03m# may raise StopIteration\u001b[39;00m\n\u001b[1;32m--> 789\u001b[0m     data \u001b[38;5;241m=\u001b[39m \u001b[38;5;28mself\u001b[39m\u001b[38;5;241m.\u001b[39m_dataset_fetcher\u001b[38;5;241m.\u001b[39mfetch(index)  \u001b[38;5;66;03m# may raise StopIteration\u001b[39;00m\n\u001b[0;32m    790\u001b[0m     \u001b[38;5;28;01mif\u001b[39;00m \u001b[38;5;28mself\u001b[39m\u001b[38;5;241m.\u001b[39m_pin_memory:\n\u001b[0;32m    791\u001b[0m         data \u001b[38;5;241m=\u001b[39m _utils\u001b[38;5;241m.\u001b[39mpin_memory\u001b[38;5;241m.\u001b[39mpin_memory(data, \u001b[38;5;28mself\u001b[39m\u001b[38;5;241m.\u001b[39m_pin_memory_device)\n",
      "File \u001b[1;32mc:\\Users\\NJS\\anaconda3\\Lib\\site-packages\\torch\\utils\\data\\_utils\\fetch.py:52\u001b[0m, in \u001b[0;36m_MapDatasetFetcher.fetch\u001b[1;34m(self, possibly_batched_index)\u001b[0m\n\u001b[0;32m     50\u001b[0m         data \u001b[38;5;241m=\u001b[39m \u001b[38;5;28mself\u001b[39m\u001b[38;5;241m.\u001b[39mdataset\u001b[38;5;241m.\u001b[39m__getitems__(possibly_batched_index)\n\u001b[0;32m     51\u001b[0m     \u001b[38;5;28;01melse\u001b[39;00m:\n\u001b[1;32m---> 52\u001b[0m         data \u001b[38;5;241m=\u001b[39m [\u001b[38;5;28mself\u001b[39m\u001b[38;5;241m.\u001b[39mdataset[idx] \u001b[38;5;28;01mfor\u001b[39;00m idx \u001b[38;5;129;01min\u001b[39;00m possibly_batched_index]\n\u001b[0;32m     53\u001b[0m \u001b[38;5;28;01melse\u001b[39;00m:\n\u001b[0;32m     54\u001b[0m     data \u001b[38;5;241m=\u001b[39m \u001b[38;5;28mself\u001b[39m\u001b[38;5;241m.\u001b[39mdataset[possibly_batched_index]\n",
      "Cell \u001b[1;32mIn[10], line 16\u001b[0m, in \u001b[0;36mSERDataset.__getitem__\u001b[1;34m(self, idx)\u001b[0m\n\u001b[0;32m     14\u001b[0m     waveform \u001b[38;5;241m=\u001b[39m resample(waveform)\n\u001b[0;32m     15\u001b[0m mfcc \u001b[38;5;241m=\u001b[39m extract_mfcc_sequence(waveform)\n\u001b[1;32m---> 16\u001b[0m prosodic \u001b[38;5;241m=\u001b[39m extract_prosodic_features(waveform)\n\u001b[0;32m     17\u001b[0m mfcc \u001b[38;5;241m=\u001b[39m \u001b[38;5;28mself\u001b[39m\u001b[38;5;241m.\u001b[39mscaler\u001b[38;5;241m.\u001b[39mtransform(mfcc\u001b[38;5;241m.\u001b[39mcpu()\u001b[38;5;241m.\u001b[39mnumpy())\n\u001b[0;32m     18\u001b[0m prosodic \u001b[38;5;241m=\u001b[39m prosodic_scaler\u001b[38;5;241m.\u001b[39mtransform(prosodic\u001b[38;5;241m.\u001b[39munsqueeze(\u001b[38;5;241m0\u001b[39m)\u001b[38;5;241m.\u001b[39mnumpy())\u001b[38;5;241m.\u001b[39msqueeze(\u001b[38;5;241m0\u001b[39m)\n",
      "Cell \u001b[1;32mIn[7], line 2\u001b[0m, in \u001b[0;36mextract_prosodic_features\u001b[1;34m(waveform, sample_rate)\u001b[0m\n\u001b[0;32m      1\u001b[0m \u001b[38;5;28;01mdef\u001b[39;00m \u001b[38;5;21mextract_prosodic_features\u001b[39m(waveform, sample_rate\u001b[38;5;241m=\u001b[39mSAMPLE_RATE):\n\u001b[1;32m----> 2\u001b[0m     pitch \u001b[38;5;241m=\u001b[39m torchaudio\u001b[38;5;241m.\u001b[39mfunctional\u001b[38;5;241m.\u001b[39mdetect_pitch_frequency(waveform, sample_rate)\n\u001b[0;32m      3\u001b[0m     pitch \u001b[38;5;241m=\u001b[39m pitch[pitch \u001b[38;5;241m>\u001b[39m \u001b[38;5;241m0\u001b[39m]  \u001b[38;5;66;03m# filter out zeros\u001b[39;00m\n\u001b[0;32m      4\u001b[0m     \u001b[38;5;28;01mif\u001b[39;00m pitch\u001b[38;5;241m.\u001b[39mnumel() \u001b[38;5;241m==\u001b[39m \u001b[38;5;241m0\u001b[39m:\n",
      "File \u001b[1;32mc:\\Users\\NJS\\anaconda3\\Lib\\site-packages\\torchaudio\\functional\\functional.py:1146\u001b[0m, in \u001b[0;36mdetect_pitch_frequency\u001b[1;34m(waveform, sample_rate, frame_time, win_length, freq_low, freq_high)\u001b[0m\n\u001b[0;32m   1143\u001b[0m shape \u001b[38;5;241m=\u001b[39m \u001b[38;5;28mlist\u001b[39m(waveform\u001b[38;5;241m.\u001b[39msize())\n\u001b[0;32m   1144\u001b[0m waveform \u001b[38;5;241m=\u001b[39m waveform\u001b[38;5;241m.\u001b[39mreshape([\u001b[38;5;241m-\u001b[39m\u001b[38;5;241m1\u001b[39m] \u001b[38;5;241m+\u001b[39m shape[\u001b[38;5;241m-\u001b[39m\u001b[38;5;241m1\u001b[39m:])\n\u001b[1;32m-> 1146\u001b[0m nccf \u001b[38;5;241m=\u001b[39m _compute_nccf(waveform, sample_rate, frame_time, freq_low)\n\u001b[0;32m   1147\u001b[0m indices \u001b[38;5;241m=\u001b[39m _find_max_per_frame(nccf, sample_rate, freq_high)\n\u001b[0;32m   1148\u001b[0m indices \u001b[38;5;241m=\u001b[39m _median_smoothing(indices, win_length)\n",
      "File \u001b[1;32mc:\\Users\\NJS\\anaconda3\\Lib\\site-packages\\torchaudio\\functional\\functional.py:1046\u001b[0m, in \u001b[0;36m_compute_nccf\u001b[1;34m(waveform, sample_rate, frame_time, freq_low)\u001b[0m\n\u001b[0;32m   1042\u001b[0m     s1 \u001b[38;5;241m=\u001b[39m waveform[\u001b[38;5;241m.\u001b[39m\u001b[38;5;241m.\u001b[39m\u001b[38;5;241m.\u001b[39m, :\u001b[38;5;241m-\u001b[39mlag]\u001b[38;5;241m.\u001b[39munfold(\u001b[38;5;241m-\u001b[39m\u001b[38;5;241m1\u001b[39m, frame_size, frame_size)[\u001b[38;5;241m.\u001b[39m\u001b[38;5;241m.\u001b[39m\u001b[38;5;241m.\u001b[39m, :num_of_frames, :]\n\u001b[0;32m   1043\u001b[0m     s2 \u001b[38;5;241m=\u001b[39m waveform[\u001b[38;5;241m.\u001b[39m\u001b[38;5;241m.\u001b[39m\u001b[38;5;241m.\u001b[39m, lag:]\u001b[38;5;241m.\u001b[39munfold(\u001b[38;5;241m-\u001b[39m\u001b[38;5;241m1\u001b[39m, frame_size, frame_size)[\u001b[38;5;241m.\u001b[39m\u001b[38;5;241m.\u001b[39m\u001b[38;5;241m.\u001b[39m, :num_of_frames, :]\n\u001b[0;32m   1045\u001b[0m     output_frames \u001b[38;5;241m=\u001b[39m (\n\u001b[1;32m-> 1046\u001b[0m         (s1 \u001b[38;5;241m*\u001b[39m s2)\u001b[38;5;241m.\u001b[39msum(\u001b[38;5;241m-\u001b[39m\u001b[38;5;241m1\u001b[39m)\n\u001b[0;32m   1047\u001b[0m         \u001b[38;5;241m/\u001b[39m (EPSILON \u001b[38;5;241m+\u001b[39m torch\u001b[38;5;241m.\u001b[39mlinalg\u001b[38;5;241m.\u001b[39mvector_norm(s1, \u001b[38;5;28mord\u001b[39m\u001b[38;5;241m=\u001b[39m\u001b[38;5;241m2\u001b[39m, dim\u001b[38;5;241m=\u001b[39m\u001b[38;5;241m-\u001b[39m\u001b[38;5;241m1\u001b[39m))\u001b[38;5;241m.\u001b[39mpow(\u001b[38;5;241m2\u001b[39m)\n\u001b[0;32m   1048\u001b[0m         \u001b[38;5;241m/\u001b[39m (EPSILON \u001b[38;5;241m+\u001b[39m torch\u001b[38;5;241m.\u001b[39mlinalg\u001b[38;5;241m.\u001b[39mvector_norm(s2, \u001b[38;5;28mord\u001b[39m\u001b[38;5;241m=\u001b[39m\u001b[38;5;241m2\u001b[39m, dim\u001b[38;5;241m=\u001b[39m\u001b[38;5;241m-\u001b[39m\u001b[38;5;241m1\u001b[39m))\u001b[38;5;241m.\u001b[39mpow(\u001b[38;5;241m2\u001b[39m)\n\u001b[0;32m   1049\u001b[0m     )\n\u001b[0;32m   1051\u001b[0m     output_lag\u001b[38;5;241m.\u001b[39mappend(output_frames\u001b[38;5;241m.\u001b[39munsqueeze(\u001b[38;5;241m-\u001b[39m\u001b[38;5;241m1\u001b[39m))\n\u001b[0;32m   1053\u001b[0m nccf \u001b[38;5;241m=\u001b[39m torch\u001b[38;5;241m.\u001b[39mcat(output_lag, \u001b[38;5;241m-\u001b[39m\u001b[38;5;241m1\u001b[39m)\n",
      "\u001b[1;31mKeyboardInterrupt\u001b[0m: "
     ]
    }
   ],
   "source": [
    "df = load_dataset(DATASET_PATH)\n",
    "train_df, val_df = train_test_split(df, stratify=df['label'], test_size=0.1, random_state=42)\n",
    "label_encoder = LabelEncoder()\n",
    "label_encoder.fit(train_df['label'])\n",
    "\n",
    "class_weights = compute_class_weight(class_weight='balanced', classes=np.unique(train_df['label']), y=train_df['label'])\n",
    "class_weights = torch.tensor(class_weights, dtype=torch.float).to(device)\n",
    "\n",
    "# Fit scalers on training data\n",
    "all_mfcc = []\n",
    "all_prosodic = []\n",
    "for path in train_df['path']:\n",
    "    waveform, sr = torchaudio.load(path)\n",
    "    if sr != SAMPLE_RATE:\n",
    "        waveform = T.Resample(sr, SAMPLE_RATE)(waveform)\n",
    "    mfcc = extract_mfcc_sequence(waveform)\n",
    "    prosodic = extract_prosodic_features(waveform)\n",
    "    all_mfcc.append(mfcc.cpu().numpy())\n",
    "    all_prosodic.append(prosodic.numpy())\n",
    "all_mfcc_flat = np.concatenate([m for m in all_mfcc], axis=0)\n",
    "scaler = StandardScaler().fit(all_mfcc_flat)\n",
    "prosodic_scaler = StandardScaler().fit(np.stack(all_prosodic))\n",
    "\n",
    "train_dataset = SERDataset(train_df, label_encoder, scaler)\n",
    "val_dataset = SERDataset(val_df, label_encoder, scaler)\n",
    "train_loader = DataLoader(train_dataset, batch_size=BATCH_SIZE, shuffle=True, collate_fn=collate_fn)\n",
    "val_loader = DataLoader(val_dataset, batch_size=BATCH_SIZE, shuffle=False, collate_fn=collate_fn)\n",
    "\n",
    "model = HybridLSTMTransformer(num_classes=len(label_encoder.classes_)).to(device)\n",
    "criterion = nn.CrossEntropyLoss(weight=class_weights)\n",
    "optimizer = optim.SGD(model.parameters(), lr=LEARNING_RATE, momentum=0.9)\n",
    "scheduler = torch.optim.lr_scheduler.ReduceLROnPlateau(optimizer, mode='max', factor=0.5, patience=5)\n",
    "\n",
    "train_model(model, train_loader, val_loader, criterion, optimizer)\n"
   ]
  }
 ],
 "metadata": {
  "accelerator": "GPU",
  "colab": {
   "gpuType": "T4",
   "provenance": []
  },
  "kernelspec": {
   "display_name": "base",
   "language": "python",
   "name": "python3"
  },
  "language_info": {
   "codemirror_mode": {
    "name": "ipython",
    "version": 3
   },
   "file_extension": ".py",
   "mimetype": "text/x-python",
   "name": "python",
   "nbconvert_exporter": "python",
   "pygments_lexer": "ipython3",
   "version": "3.12.3"
  }
 },
 "nbformat": 4,
 "nbformat_minor": 4
}
