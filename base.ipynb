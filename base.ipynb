{
 "cells": [
  {
   "cell_type": "markdown",
   "metadata": {
    "id": "_IZVke2Yv3fp"
   },
   "source": [
    "**Modules**\n",
    "os to deal with the data\n",
    "visualization: seaborn, matplotlib\n",
    "audio visualization:librosa\n",
    "play audio: Iputhon Audio"
   ]
  },
  {
   "cell_type": "code",
   "execution_count": 1,
   "metadata": {
    "id": "Tz_0w8A1v5XM"
   },
   "outputs": [],
   "source": [
    "import os\n",
    "import torch\n",
    "import torchaudio\n",
    "import torch.nn as nn\n",
    "import torch.optim as optim\n",
    "import numpy as np\n",
    "import pandas as pd\n",
    "import math\n",
    "from torch.utils.data import Dataset, DataLoader\n",
    "from sklearn.preprocessing import LabelEncoder\n",
    "from sklearn.metrics import classification_report\n",
    "from transformers import Wav2Vec2Model, Wav2Vec2Config\n",
    "from tqdm import tqdm\n",
    "import matplotlib.pyplot as plt\n",
    "from torch.cuda.amp import autocast, GradScaler\n",
    "import warnings\n",
    "warnings.filterwarnings(\"ignore\")\n"
   ]
  },
  {
   "cell_type": "code",
   "execution_count": 2,
   "metadata": {},
   "outputs": [],
   "source": [
    "torch.backends.cudnn.benchmark = True  \n",
    "torch.backends.cuda.matmul.allow_tf32 = True  \n",
    "torch.backends.cudnn.allow_tf32 = True"
   ]
  },
  {
   "cell_type": "markdown",
   "metadata": {},
   "source": [
    "Hardware Check"
   ]
  },
  {
   "cell_type": "code",
   "execution_count": 3,
   "metadata": {},
   "outputs": [
    {
     "name": "stdout",
     "output_type": "stream",
     "text": [
      "Using device: cuda\n",
      "GPU: NVIDIA GeForce RTX 3070 Ti\n",
      "VRAM: 8.00 GB\n"
     ]
    }
   ],
   "source": [
    "\n",
    "device = torch.device(\"cuda\" if torch.cuda.is_available() else \"cpu\")\n",
    "print(f\"Using device: {device}\")\n",
    "print(f\"GPU: {torch.cuda.get_device_name(0)}\")\n",
    "print(f\"VRAM: {torch.cuda.get_device_properties(0).total_memory / 1024**3:.2f} GB\")\n"
   ]
  },
  {
   "cell_type": "code",
   "execution_count": 4,
   "metadata": {},
   "outputs": [],
   "source": [
    "torch.cuda.empty_cache()"
   ]
  },
  {
   "cell_type": "code",
   "execution_count": null,
   "metadata": {},
   "outputs": [],
   "source": [
    "BATCH_SIZE = 16  \n",
    "MAX_LENGTH = 16000 * 4  \n",
    "SAMPLE_RATE = 16000\n",
    "NUM_EPOCHS = 25\n",
    "LEARNING_RATE = 2e-5\n",
    "GRADIENT_ACCUMULATION_STEPS = 2\n",
    "\n",
    "\n",
    "train_dataset_path = 'C:/Users/NJS/Desktop/Thesis/TRAINING_DATASET'\n",
    "test_dataset_path = 'C:/Users/NJS/Desktop/Thesis/TESTING_DATASET'\n"
   ]
  },
  {
   "cell_type": "markdown",
   "metadata": {
    "id": "f-DJxnPe0lgq"
   },
   "source": [
    "**Dataset Label Load**"
   ]
  },
  {
   "cell_type": "code",
   "execution_count": null,
   "metadata": {},
   "outputs": [
    {
     "name": "stdout",
     "output_type": "stream",
     "text": [
      "Emotion classes: ['angry' 'disgust' 'fear' 'happy' 'neutral' 'sad' 'surprise']\n"
     ]
    }
   ],
   "source": [
    "def load_dataset(dataset_path):\n",
    "    paths = []\n",
    "    labels = []\n",
    "\n",
    "    for dirname, _, filenames in os.walk(dataset_path):\n",
    "        for filename in filenames:\n",
    "            file_path = os.path.join(dirname, filename)\n",
    "            paths.append(file_path)\n",
    "            label = filename.split('_')[0]\n",
    "            labels.append(label.lower())\n",
    "\n",
    "    dataframe = pd.DataFrame({'audio': paths, 'emotion': labels})\n",
    "    dataframe = dataframe[dataframe['emotion'] != 'calm'].reset_index(drop=True)\n",
    "    return dataframe\n",
    "\n",
    "train_df = load_dataset(train_dataset_path)\n",
    "test_df = load_dataset(test_dataset_path)\n",
    "\n",
    "label_encoder = LabelEncoder()\n",
    "label_encoder.fit(train_df['emotion'])\n",
    "NUM_CLASSES = len(label_encoder.classes_)\n",
    "print(f\"Emotion classes: {label_encoder.classes_}\")"
   ]
  },
  {
   "cell_type": "code",
   "execution_count": null,
   "metadata": {},
   "outputs": [],
   "source": [
    "class AudioFeatureExtractor(nn.Module):\n",
    "    def __init__(self, feature_type='wav2vec'):\n",
    "        super().__init__()\n",
    "        self.feature_type = feature_type\n",
    "        \n",
    "        if feature_type == 'wav2vec':\n",
    "            config = Wav2Vec2Config.from_pretrained(\"facebook/wav2vec2-base\")\n",
    "            self.feature_extractor = Wav2Vec2Model(config)\n",
    "            for param in self.feature_extractor.parameters():\n",
    "                param.requires_grad = False\n",
    "        elif feature_type == 'melspectrogram':\n",
    "            self.transform = torchaudio.transforms.MelSpectrogram(\n",
    "                sample_rate=SAMPLE_RATE,\n",
    "                n_fft=1024,\n",
    "                hop_length=256,\n",
    "                n_mels=80\n",
    "            )\n",
    "        elif feature_type == 'mfcc':\n",
    "            self.transform = torchaudio.transforms.MFCC(\n",
    "                sample_rate=SAMPLE_RATE,\n",
    "                n_mfcc=40,\n",
    "                melkwargs={'n_fft': 1024, 'hop_length': 256, 'n_mels': 80}\n",
    "            )\n",
    "    \n",
    "    def forward(self, x):\n",
    "        x = x.squeeze(1)  \n",
    "        \n",
    "        if self.feature_type == 'wav2vec':\n",
    "            with torch.no_grad():\n",
    "                features = self.feature_extractor(x).last_hidden_state\n",
    "        else:\n",
    "            features = self.transform(x)\n",
    "            if len(features.shape) == 3:  \n",
    "                features = features.permute(0, 2, 1)  \n",
    "        return features"
   ]
  },
  {
   "cell_type": "code",
   "execution_count": null,
   "metadata": {},
   "outputs": [],
   "source": [
    "class PositionalEncoding(nn.Module):\n",
    "    def __init__(self, d_model, max_len=5000):\n",
    "        super(PositionalEncoding, self).__init__()\n",
    "        pe = torch.zeros(max_len, d_model)  \n",
    "        position = torch.arange(0, max_len, dtype=torch.float).unsqueeze(1)\n",
    "        div_term = torch.exp(torch.arange(0, d_model, 2).float() * -(math.log(10000.0) / d_model))\n",
    "        pe[:, 0::2] = torch.sin(position * div_term)  \n",
    "        pe[:, 1::2] = torch.cos(position * div_term)  \n",
    "        self.register_buffer('pe', pe)\n",
    "\n",
    "    def forward(self, x):\n",
    "        seq_len = x.size(1) \n",
    "        pe = self.pe[:, :seq_len]  \n",
    "        pe = pe.to(x.device)  \n",
    "        return x + pe"
   ]
  },
  {
   "cell_type": "code",
   "execution_count": null,
   "metadata": {},
   "outputs": [],
   "source": [
    "class AudioEmotionTransformer(nn.Module):\n",
    "    def __init__(self, feature_type='wav2vec'):\n",
    "        super().__init__()\n",
    "        self.feature_extractor = AudioFeatureExtractor(feature_type).to(device)\n",
    "        \n",
    "        if feature_type == 'wav2vec':\n",
    "            self.d_model = 768\n",
    "        elif feature_type == 'melspectrogram':\n",
    "            self.d_model = 80\n",
    "        elif feature_type == 'mfcc':\n",
    "            self.d_model = 40\n",
    "        \n",
    "        self.positional_encoding = PositionalEncoding(self.d_model)\n",
    "        \n",
    "        self.transformer = nn.TransformerEncoder(\n",
    "            nn.TransformerEncoderLayer(\n",
    "                d_model=self.d_model,\n",
    "                nhead=8,\n",
    "                dim_feedforward=2048,\n",
    "                dropout=0.1,\n",
    "                batch_first=True\n",
    "            ),\n",
    "            num_layers=4\n",
    "        )\n",
    "        \n",
    "        self.classifier = nn.Sequential(\n",
    "            nn.Linear(self.d_model, 256),\n",
    "            nn.ReLU(),\n",
    "            nn.Dropout(0.2),\n",
    "            nn.Linear(256, NUM_CLASSES))\n",
    "    \n",
    "    def forward(self, x):\n",
    "\n",
    "        features = self.feature_extractor(x.unsqueeze(1))\n",
    "        \n",
    "\n",
    "        if len(features.shape) == 3: \n",
    "            features = self.positional_encoding(features)\n",
    "        elif len(features.shape) == 4:  \n",
    "            features = features.squeeze(1) \n",
    "            features = features.permute(0, 2, 1)  \n",
    "            features = self.positional_encoding(features)\n",
    "        \n",
    "        features = self.transformer(features)\n",
    "        \n",
    "\n",
    "        pooled = features.mean(dim=1)\n",
    "        return self.classifier(pooled)"
   ]
  },
  {
   "cell_type": "code",
   "execution_count": null,
   "metadata": {},
   "outputs": [],
   "source": [
    "class AudioEmotionDataset(Dataset):\n",
    "    def __init__(self, dataframe):\n",
    "        self.audio_paths = dataframe['audio'].values\n",
    "        self.labels = label_encoder.transform(dataframe['emotion'])\n",
    "        self.resampler = torchaudio.transforms.Resample(orig_freq=SAMPLE_RATE, new_freq=SAMPLE_RATE)\n",
    "        \n",
    "    def __len__(self):\n",
    "        return len(self.audio_paths)\n",
    "    \n",
    "    def __getitem__(self, idx):\n",
    "        waveform, sample_rate = torchaudio.load(self.audio_paths[idx])\n",
    "        \n",
    "        if sample_rate != SAMPLE_RATE:\n",
    "            waveform = self.resampler(waveform)\n",
    "        \n",
    "        if waveform.shape[0] > 1:\n",
    "            waveform = torch.mean(waveform, dim=0, keepdim=True)\n",
    "        \n",
    "        if waveform.shape[1] < MAX_LENGTH:\n",
    "            waveform = torch.nn.functional.pad(waveform, (0, MAX_LENGTH - waveform.shape[1]))\n",
    "        else:\n",
    "            waveform = waveform[:, :MAX_LENGTH]\n",
    "        \n",
    "        return waveform.squeeze(0), torch.tensor(self.labels[idx], dtype=torch.long)"
   ]
  },
  {
   "cell_type": "code",
   "execution_count": null,
   "metadata": {},
   "outputs": [],
   "source": [
    "def train_and_evaluate():\n",
    "\n",
    "    train_dataset = AudioEmotionDataset(train_df)\n",
    "    test_dataset = AudioEmotionDataset(test_df)\n",
    "    \n",
    "    train_loader = DataLoader(train_dataset, batch_size=BATCH_SIZE, shuffle=True, num_workers=0, pin_memory=True)\n",
    "    test_loader = DataLoader(test_dataset, batch_size=BATCH_SIZE, shuffle=False, num_workers=0, pin_memory=True)\n",
    "    \n",
    "\n",
    "    model = AudioEmotionTransformer(feature_type='wav2vec').to(device)\n",
    "    optimizer = optim.AdamW(model.parameters(), lr=LEARNING_RATE)\n",
    "    scheduler = optim.lr_scheduler.ReduceLROnPlateau(optimizer, 'min', patience=3, factor=0.5)\n",
    "    criterion = nn.CrossEntropyLoss()\n",
    "    scaler = GradScaler()\n",
    "    \n",
    "    best_accuracy = 0.0\n",
    "    history = {'train_loss': [], 'val_loss': [], 'val_acc': []}\n",
    "\n",
    "    for epoch in range(NUM_EPOCHS):\n",
    "        model.train()\n",
    "        running_loss = 0.0\n",
    "        optimizer.zero_grad()\n",
    "\n",
    "        progress_bar = tqdm(train_loader, desc=f\"Epoch {epoch+1}/{NUM_EPOCHS}\")\n",
    "        \n",
    "        for i, (inputs, labels) in enumerate(progress_bar):\n",
    "            inputs, labels = inputs.to(device), labels.to(device)\n",
    "\n",
    "            with autocast():\n",
    "                outputs = model(inputs)\n",
    "                loss = criterion(outputs, labels)\n",
    "\n",
    "\n",
    "            scaled_loss = scaler.scale(loss / GRADIENT_ACCUMULATION_STEPS)\n",
    "            scaled_loss.backward()\n",
    "\n",
    "            if (i + 1) % GRADIENT_ACCUMULATION_STEPS == 0:\n",
    "                scaler.step(optimizer)\n",
    "                scaler.update()\n",
    "                optimizer.zero_grad()\n",
    "\n",
    "            running_loss += loss.item() * inputs.size(0)\n",
    "            progress_bar.set_postfix({'loss': loss.item()})\n",
    "\n",
    "\n",
    "        model.eval()\n",
    "        val_loss = 0.0\n",
    "        all_preds = []\n",
    "        all_labels = []\n",
    "\n",
    "        with torch.no_grad():\n",
    "            for inputs, labels in test_loader:\n",
    "                inputs, labels = inputs.to(device), labels.to(torch.long).to(device)\n",
    "                with autocast():\n",
    "                    outputs = model(inputs)\n",
    "                    loss = criterion(outputs, labels)\n",
    "\n",
    "                val_loss += loss.item() * inputs.size(0)\n",
    "                _, preds = torch.max(outputs, 1)\n",
    "                all_preds.extend(preds.cpu().numpy())\n",
    "                all_labels.extend(labels.cpu().numpy())\n",
    "\n",
    "\n",
    "        train_loss = running_loss / len(train_dataset)\n",
    "        val_loss = val_loss / len(test_dataset)\n",
    "        val_accuracy = (np.array(all_preds) == np.array(all_labels)).mean() * 100\n",
    "\n",
    "        history['train_loss'].append(train_loss)\n",
    "        history['val_loss'].append(val_loss)\n",
    "        history['val_acc'].append(val_accuracy)\n",
    "\n",
    "        print(f\"\\nEpoch {epoch+1}/{NUM_EPOCHS} - Train Loss: {train_loss:.4f} | Val Loss: {val_loss:.4f} | Val Acc: {val_accuracy:.2f}%\")\n",
    "        \n",
    "        if val_accuracy > best_accuracy:\n",
    "            best_accuracy = val_accuracy\n",
    "            torch.save(model.state_dict(), \"best_model.pth\")\n",
    "            print(\"Saved new best model\")\n",
    "\n",
    "        scheduler.step(val_loss)\n",
    "        torch.cuda.empty_cache()\n",
    "\n",
    "\n",
    "    plt.figure(figsize=(12, 4))\n",
    "    plt.subplot(1, 2, 1)\n",
    "    plt.plot(history['train_loss'], label='Train Loss')\n",
    "    plt.plot(history['val_loss'], label='Val Loss')\n",
    "    plt.legend()\n",
    "    plt.title(\"Loss over epochs\")\n",
    "    \n",
    "    plt.subplot(1, 2, 2)\n",
    "    plt.plot(history['val_acc'], label='Val Accuracy')\n",
    "    plt.legend()\n",
    "    plt.title(\"Accuracy over epochs\")\n",
    "    \n",
    "    plt.tight_layout()\n",
    "    plt.savefig(\"training_history.png\", dpi=300)\n",
    "    plt.show()\n",
    "\n",
    "\n",
    "    print(\"\\nClassification Report:\")\n",
    "    print(classification_report(all_labels, all_preds, target_names=label_encoder.classes_))\n"
   ]
  },
  {
   "cell_type": "code",
   "execution_count": null,
   "metadata": {},
   "outputs": [
    {
     "name": "stdout",
     "output_type": "stream",
     "text": [
      "Initial GPU memory allocated: 0.00 MB\n",
      "Initial GPU memory cached: 0.00 MB\n"
     ]
    },
    {
     "name": "stderr",
     "output_type": "stream",
     "text": [
      "Epoch 1/25: 100%|██████████| 452/452 [01:32<00:00,  4.87it/s, loss=2.93]\n"
     ]
    },
    {
     "name": "stdout",
     "output_type": "stream",
     "text": [
      "\n",
      "Epoch 1/25 - Train Loss: 1.7129 | Val Loss: 1.6231 | Val Acc: 36.18%\n",
      "Saved new best model\n"
     ]
    },
    {
     "name": "stderr",
     "output_type": "stream",
     "text": [
      "Epoch 2/25:  24%|██▍       | 108/452 [00:10<00:32, 10.54it/s, loss=1.35]"
     ]
    }
   ],
   "source": [
    "if __name__ == \"__main__\":\n",
    "\n",
    "    print(f\"Initial GPU memory allocated: {torch.cuda.memory_allocated()/1024**2:.2f} MB\")\n",
    "    print(f\"Initial GPU memory cached: {torch.cuda.memory_reserved()/1024**2:.2f} MB\")\n",
    "    \n",
    "\n",
    "    train_and_evaluate()\n",
    "    \n",
    "\n",
    "    print(f\"\\nPeak GPU memory allocated: {torch.cuda.max_memory_allocated()/1024**3:.2f} GB\")\n",
    "    print(f\"Peak GPU memory reserved: {torch.cuda.max_memory_reserved()/1024**3:.2f} GB\")"
   ]
  }
 ],
 "metadata": {
  "accelerator": "GPU",
  "colab": {
   "gpuType": "T4",
   "provenance": []
  },
  "kernelspec": {
   "display_name": "base",
   "language": "python",
   "name": "python3"
  },
  "language_info": {
   "codemirror_mode": {
    "name": "ipython",
    "version": 3
   },
   "file_extension": ".py",
   "mimetype": "text/x-python",
   "name": "python",
   "nbconvert_exporter": "python",
   "pygments_lexer": "ipython3",
   "version": "3.12.3"
  }
 },
 "nbformat": 4,
 "nbformat_minor": 4
}
