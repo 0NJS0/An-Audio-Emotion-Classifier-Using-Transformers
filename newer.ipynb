{
 "cells": [
  {
   "cell_type": "code",
   "execution_count": 1,
   "id": "f762db12",
   "metadata": {},
   "outputs": [],
   "source": [
    "import os\n",
    "import torch\n",
    "import torch.nn as nn\n",
    "import torch.optim as optim\n",
    "import torchaudio\n",
    "import torchaudio.transforms as T\n",
    "import numpy as np\n",
    "import pandas as pd\n",
    "from sklearn.preprocessing import LabelEncoder, StandardScaler\n",
    "from sklearn.model_selection import train_test_split, StratifiedKFold\n",
    "from sklearn.utils.class_weight import compute_class_weight\n",
    "from sklearn.metrics import confusion_matrix, ConfusionMatrixDisplay\n",
    "from torch.utils.data import Dataset, DataLoader\n",
    "from tqdm import tqdm\n",
    "import matplotlib.pyplot as plt"
   ]
  },
  {
   "cell_type": "code",
   "execution_count": 2,
   "id": "456f74a6",
   "metadata": {},
   "outputs": [],
   "source": [
    "SAMPLE_RATE = 22050\n",
    "N_MFCC = 80\n",
    "BATCH_SIZE = 60\n",
    "LEARNING_RATE = 0.02\n",
    "EPOCHS = 750"
   ]
  },
  {
   "cell_type": "code",
   "execution_count": 3,
   "id": "f4e9cc02",
   "metadata": {},
   "outputs": [
    {
     "name": "stdout",
     "output_type": "stream",
     "text": [
      "Using device: cuda\n"
     ]
    }
   ],
   "source": [
    "device = torch.device(\"cuda\" if torch.cuda.is_available() else \"cpu\")\n",
    "print(\"Using device:\", device)"
   ]
  },
  {
   "cell_type": "code",
   "execution_count": 4,
   "id": "3627784b",
   "metadata": {},
   "outputs": [],
   "source": [
    "DATASET_PATH = \"C:/Users/NJS/Desktop/Thesis/RAVDESS_DATASET\""
   ]
  },
  {
   "cell_type": "code",
   "execution_count": 5,
   "id": "ac56087b",
   "metadata": {},
   "outputs": [],
   "source": [
    "def extract_mfcc_sequence(waveform):\n",
    "    if waveform.shape[0] > 1:\n",
    "        waveform = waveform.mean(dim=0, keepdim=True)\n",
    "    mfcc_transform = T.MFCC(\n",
    "        sample_rate=SAMPLE_RATE,\n",
    "        n_mfcc=N_MFCC,\n",
    "        melkwargs={'n_fft': 2048, 'hop_length': 512, 'n_mels': 128}\n",
    "    )\n",
    "    mfcc = mfcc_transform(waveform)\n",
    "    mfcc = mfcc.squeeze(0).transpose(0, 1)\n",
    "    return mfcc"
   ]
  },
  {
   "cell_type": "code",
   "execution_count": 6,
   "id": "bbfe8540",
   "metadata": {},
   "outputs": [],
   "source": [
    "def extract_prosodic_features(waveform, sample_rate=SAMPLE_RATE):\n",
    "    pitch = torchaudio.functional.detect_pitch_frequency(waveform, sample_rate)\n",
    "    pitch = pitch[pitch > 0]  # filter out zeros\n",
    "    if pitch.numel() == 0:\n",
    "        pitch_mean, pitch_std = 0.0, 0.0\n",
    "    else:\n",
    "        pitch_mean, pitch_std = pitch.mean().item(), pitch.std().item()\n",
    "    energy = waveform.pow(2).mean().sqrt().item()\n",
    "    return torch.tensor([pitch_mean, pitch_std, energy], dtype=torch.float32)"
   ]
  },
  {
   "cell_type": "code",
   "execution_count": 7,
   "id": "f650d784",
   "metadata": {},
   "outputs": [],
   "source": [
    "def pad_sequence(sequences):\n",
    "    lengths = [s.shape[0] for s in sequences]\n",
    "    max_len = max(lengths)\n",
    "    padded = torch.zeros(len(sequences), max_len, sequences[0].shape[1])\n",
    "    for i, seq in enumerate(sequences):\n",
    "        end = lengths[i]\n",
    "        if isinstance(seq, torch.Tensor):\n",
    "            padded[i, :end, :] = seq.detach().clone()\n",
    "        else:\n",
    "            padded[i, :end, :] = torch.tensor(seq, dtype=torch.float32)\n",
    "    return padded"
   ]
  },
  {
   "cell_type": "code",
   "execution_count": 8,
   "id": "3f0b3142",
   "metadata": {},
   "outputs": [],
   "source": [
    "def load_dataset(path):\n",
    "    files = []\n",
    "    labels = []\n",
    "    for dirname, _, filenames in os.walk(path):\n",
    "        for filename in filenames:\n",
    "            if filename.endswith(\".wav\"):\n",
    "                full_path = os.path.join(dirname, filename)\n",
    "                emotion = os.path.basename(dirname).lower()\n",
    "                files.append(full_path)\n",
    "                labels.append(emotion)\n",
    "    df = pd.DataFrame({'path': files, 'label': labels})\n",
    "    return df"
   ]
  },
  {
   "cell_type": "code",
   "execution_count": 9,
   "id": "8e1a8c85",
   "metadata": {},
   "outputs": [],
   "source": [
    "class SERDataset(Dataset):\n",
    "    def __init__(self, dataframe, label_encoder, scaler, prosodic_scaler):\n",
    "        self.paths = dataframe['path'].values\n",
    "        self.labels = label_encoder.transform(dataframe['label'].values)\n",
    "        self.scaler = scaler\n",
    "        self.prosodic_scaler = prosodic_scaler\n",
    "\n",
    "    def __len__(self):\n",
    "        return len(self.paths)\n",
    "\n",
    "    def __getitem__(self, idx):\n",
    "        waveform, sr = torchaudio.load(self.paths[idx])\n",
    "        if sr != SAMPLE_RATE:\n",
    "            resample = T.Resample(orig_freq=sr, new_freq=SAMPLE_RATE)\n",
    "            waveform = resample(waveform)\n",
    "        mfcc = extract_mfcc_sequence(waveform)\n",
    "        prosodic = extract_prosodic_features(waveform)\n",
    "        mfcc = self.scaler.transform(mfcc.cpu().numpy())\n",
    "        prosodic = prosodic_scaler.transform(prosodic.unsqueeze(0).numpy()).squeeze(0)\n",
    "        prosodic = torch.tensor(prosodic, dtype=torch.float32)\n",
    "        return torch.tensor(mfcc, dtype=torch.float32), prosodic, torch.tensor(self.labels[idx], dtype=torch.long)"
   ]
  },
  {
   "cell_type": "code",
   "execution_count": 10,
   "id": "e67eb691",
   "metadata": {},
   "outputs": [],
   "source": [
    "def collate_fn(batch):\n",
    "    sequences, prosodics, labels = zip(*batch)\n",
    "    sequences_padded = pad_sequence(sequences)\n",
    "    prosodics = torch.stack(prosodics).float()\n",
    "    labels = torch.stack(labels)\n",
    "    return sequences_padded, prosodics, labels"
   ]
  },
  {
   "cell_type": "code",
   "execution_count": 11,
   "id": "c4cf75e1",
   "metadata": {},
   "outputs": [],
   "source": [
    "class AttentionPooling(nn.Module):\n",
    "    def __init__(self, dim):\n",
    "        super().__init__()\n",
    "        self.attention = nn.Sequential(\n",
    "            nn.Linear(dim, 128),\n",
    "            nn.Tanh(),\n",
    "            nn.Linear(128, 1)\n",
    "        )\n",
    "\n",
    "    def forward(self, x):\n",
    "        weights = self.attention(x)\n",
    "        weights = torch.softmax(weights, dim=1)\n",
    "        return (x * weights).sum(dim=1)"
   ]
  },
  {
   "cell_type": "code",
   "execution_count": 12,
   "id": "40c05e8d",
   "metadata": {},
   "outputs": [],
   "source": [
    "class HybridLSTMTransformer(nn.Module):\n",
    "    def __init__(self, num_classes):\n",
    "        super().__init__()\n",
    "        self.lstm = nn.LSTM(input_size=N_MFCC, hidden_size=128, num_layers=2, batch_first=True, bidirectional=True)\n",
    "        encoder_layer = nn.TransformerEncoderLayer(d_model=256, nhead=8, dim_feedforward=1024, dropout=0.3, batch_first=True)\n",
    "        self.transformer = nn.TransformerEncoder(encoder_layer, num_layers=4)\n",
    "        self.attn_pool = AttentionPooling(256)\n",
    "        self.fc = nn.Sequential(\n",
    "            nn.Linear(256 + 3, 256),  # input size matches BiLSTM+prosodic\n",
    "            nn.ReLU(),\n",
    "            nn.Linear(256, 64),  # fix shape mismatch\n",
    "            nn.ReLU(),\n",
    "            nn.Dropout(0.3),\n",
    "            nn.Linear(64, num_classes)\n",
    "        )\n",
    "\n",
    "    def forward(self, x, prosodic):\n",
    "        lstm_out, _ = self.lstm(x)\n",
    "        trans_out = self.transformer(lstm_out)\n",
    "        pooled = self.attn_pool(trans_out)\n",
    "        fused = torch.cat([pooled, prosodic], dim=1)\n",
    "        return self.fc(fused)"
   ]
  },
  {
   "cell_type": "code",
   "execution_count": 13,
   "id": "489e9ee2",
   "metadata": {},
   "outputs": [],
   "source": [
    "def train_model(model, train_loader, val_loader, criterion, optimizer, patience=10):\n",
    "    best_acc = 0\n",
    "    all_preds = []\n",
    "    all_labels = []\n",
    "    train_losses, val_accuracies = [], []\n",
    "\n",
    "    best_acc = 0\n",
    "    best_epoch = 0\n",
    "    no_improve_counter = 0\n",
    "\n",
    "    for epoch in range(EPOCHS):\n",
    "        model.train()\n",
    "        running_loss = 0\n",
    "        for x, p, y in tqdm(train_loader, desc=f\"Epoch {epoch+1}/{EPOCHS}\"):\n",
    "            \n",
    "            x, p, y = x.to(device), p.to(device), y.to(device)\n",
    "            optimizer.zero_grad()\n",
    "            output = model(x, p)\n",
    "            loss = criterion(output, y)\n",
    "            loss.backward()\n",
    "            optimizer.step()\n",
    "            running_loss += loss.item()\n",
    "\n",
    "        train_losses.append(running_loss / len(train_loader))\n",
    "\n",
    "        model.eval()\n",
    "        correct, total = 0, 0\n",
    "        all_preds.clear()\n",
    "        all_labels.clear()\n",
    "        with torch.no_grad():\n",
    "            for x, p, y in val_loader:\n",
    "                x, p, y = x.to(device), p.to(device), y.to(device)\n",
    "                output = model(x, p)\n",
    "                preds = output.argmax(dim=1)\n",
    "                all_preds.extend(preds.cpu().numpy())\n",
    "                all_labels.extend(y.cpu().numpy())\n",
    "                correct += (preds == y).sum().item()\n",
    "                total += y.size(0)\n",
    "        acc = correct / total\n",
    "        val_accuracies.append(acc)\n",
    "\n",
    "        print(f\"Epoch {epoch+1}: Train Loss = {running_loss:.4f}, Val Acc = {acc*100:.2f}%\")\n",
    "        if acc > best_acc:\n",
    "            best_acc = acc\n",
    "            best_epoch = epoch\n",
    "            no_improve_counter = 0\n",
    "            torch.save(model.state_dict(), \"best_hybrid_model.pth\")\n",
    "            print(\"Model saved.\")\n",
    "        else:\n",
    "            no_improve_counter += 1\n",
    "\n",
    "        scheduler.step(acc)\n",
    "\n",
    "        if no_improve_counter >= patience:\n",
    "            print(f\"Early stopping triggered at epoch {epoch+1}. Best epoch was {best_epoch+1}.\")\n",
    "            break\n",
    "\n",
    "    cm = confusion_matrix(all_labels, all_preds)\n",
    "    disp = ConfusionMatrixDisplay(confusion_matrix=cm, display_labels=label_encoder.classes_)\n",
    "    disp.plot(cmap='Blues', xticks_rotation=45)\n",
    "    plt.title(\"Confusion Matrix\")\n",
    "    plt.tight_layout()\n",
    "    plt.show()\n",
    "\n",
    "    plt.figure(figsize=(12, 5))\n",
    "    plt.subplot(1, 2, 1)\n",
    "    plt.plot(train_losses, label='Train Loss')\n",
    "    plt.xlabel('Epoch')\n",
    "    plt.ylabel('Loss')\n",
    "    plt.title('Training Loss')\n",
    "    plt.legend()\n",
    "\n",
    "    plt.subplot(1, 2, 2)\n",
    "    plt.plot(val_accuracies, label='Validation Accuracy')\n",
    "    plt.xlabel('Epoch')\n",
    "    plt.ylabel('Accuracy')\n",
    "    plt.title('Validation Accuracy')\n",
    "    plt.legend()\n",
    "    plt.tight_layout()\n",
    "    plt.show()"
   ]
  },
  {
   "cell_type": "code",
   "execution_count": 14,
   "id": "354e9e5f",
   "metadata": {},
   "outputs": [
    {
     "name": "stderr",
     "output_type": "stream",
     "text": [
      "Epoch 1/750: 100%|██████████| 21/21 [00:45<00:00,  2.16s/it]\n"
     ]
    },
    {
     "name": "stdout",
     "output_type": "stream",
     "text": [
      "Epoch 1: Train Loss = 40.8812, Val Acc = 16.30%\n",
      "Model saved.\n"
     ]
    },
    {
     "name": "stderr",
     "output_type": "stream",
     "text": [
      "Epoch 2/750: 100%|██████████| 21/21 [00:45<00:00,  2.17s/it]\n"
     ]
    },
    {
     "name": "stdout",
     "output_type": "stream",
     "text": [
      "Epoch 2: Train Loss = 39.7151, Val Acc = 28.15%\n",
      "Model saved.\n"
     ]
    },
    {
     "name": "stderr",
     "output_type": "stream",
     "text": [
      "Epoch 3/750: 100%|██████████| 21/21 [00:45<00:00,  2.19s/it]\n"
     ]
    },
    {
     "name": "stdout",
     "output_type": "stream",
     "text": [
      "Epoch 3: Train Loss = 38.3446, Val Acc = 22.96%\n"
     ]
    },
    {
     "name": "stderr",
     "output_type": "stream",
     "text": [
      "Epoch 4/750: 100%|██████████| 21/21 [00:47<00:00,  2.27s/it]\n"
     ]
    },
    {
     "name": "stdout",
     "output_type": "stream",
     "text": [
      "Epoch 4: Train Loss = 36.2051, Val Acc = 37.04%\n",
      "Model saved.\n"
     ]
    },
    {
     "name": "stderr",
     "output_type": "stream",
     "text": [
      "Epoch 5/750: 100%|██████████| 21/21 [00:47<00:00,  2.28s/it]\n"
     ]
    },
    {
     "name": "stdout",
     "output_type": "stream",
     "text": [
      "Epoch 5: Train Loss = 33.7848, Val Acc = 36.30%\n"
     ]
    },
    {
     "name": "stderr",
     "output_type": "stream",
     "text": [
      "Epoch 6/750: 100%|██████████| 21/21 [00:48<00:00,  2.32s/it]\n"
     ]
    },
    {
     "name": "stdout",
     "output_type": "stream",
     "text": [
      "Epoch 6: Train Loss = 32.9233, Val Acc = 37.04%\n"
     ]
    },
    {
     "name": "stderr",
     "output_type": "stream",
     "text": [
      "Epoch 7/750: 100%|██████████| 21/21 [00:48<00:00,  2.33s/it]\n"
     ]
    },
    {
     "name": "stdout",
     "output_type": "stream",
     "text": [
      "Epoch 7: Train Loss = 32.4484, Val Acc = 42.96%\n",
      "Model saved.\n"
     ]
    },
    {
     "name": "stderr",
     "output_type": "stream",
     "text": [
      "Epoch 8/750: 100%|██████████| 21/21 [00:48<00:00,  2.31s/it]\n"
     ]
    },
    {
     "name": "stdout",
     "output_type": "stream",
     "text": [
      "Epoch 8: Train Loss = 30.4382, Val Acc = 45.19%\n",
      "Model saved.\n"
     ]
    },
    {
     "name": "stderr",
     "output_type": "stream",
     "text": [
      "Epoch 9/750: 100%|██████████| 21/21 [00:48<00:00,  2.30s/it]\n"
     ]
    },
    {
     "name": "stdout",
     "output_type": "stream",
     "text": [
      "Epoch 9: Train Loss = 28.7675, Val Acc = 44.44%\n"
     ]
    },
    {
     "name": "stderr",
     "output_type": "stream",
     "text": [
      "Epoch 10/750: 100%|██████████| 21/21 [00:48<00:00,  2.31s/it]\n"
     ]
    },
    {
     "name": "stdout",
     "output_type": "stream",
     "text": [
      "Epoch 10: Train Loss = 26.3105, Val Acc = 47.41%\n",
      "Model saved.\n"
     ]
    },
    {
     "name": "stderr",
     "output_type": "stream",
     "text": [
      "Epoch 11/750: 100%|██████████| 21/21 [00:48<00:00,  2.30s/it]\n"
     ]
    },
    {
     "name": "stdout",
     "output_type": "stream",
     "text": [
      "Epoch 11: Train Loss = 27.4988, Val Acc = 50.37%\n",
      "Model saved.\n"
     ]
    },
    {
     "name": "stderr",
     "output_type": "stream",
     "text": [
      "Epoch 12/750: 100%|██████████| 21/21 [00:47<00:00,  2.24s/it]\n"
     ]
    },
    {
     "name": "stdout",
     "output_type": "stream",
     "text": [
      "Epoch 12: Train Loss = 26.7539, Val Acc = 48.15%\n"
     ]
    },
    {
     "name": "stderr",
     "output_type": "stream",
     "text": [
      "Epoch 13/750: 100%|██████████| 21/21 [00:48<00:00,  2.29s/it]\n"
     ]
    },
    {
     "name": "stdout",
     "output_type": "stream",
     "text": [
      "Epoch 13: Train Loss = 23.5878, Val Acc = 48.15%\n"
     ]
    },
    {
     "name": "stderr",
     "output_type": "stream",
     "text": [
      "Epoch 14/750: 100%|██████████| 21/21 [00:48<00:00,  2.29s/it]\n"
     ]
    },
    {
     "name": "stdout",
     "output_type": "stream",
     "text": [
      "Epoch 14: Train Loss = 24.0412, Val Acc = 55.56%\n",
      "Model saved.\n"
     ]
    },
    {
     "name": "stderr",
     "output_type": "stream",
     "text": [
      "Epoch 15/750: 100%|██████████| 21/21 [00:49<00:00,  2.36s/it]\n"
     ]
    },
    {
     "name": "stdout",
     "output_type": "stream",
     "text": [
      "Epoch 15: Train Loss = 21.9085, Val Acc = 46.67%\n"
     ]
    },
    {
     "name": "stderr",
     "output_type": "stream",
     "text": [
      "Epoch 16/750: 100%|██████████| 21/21 [00:47<00:00,  2.25s/it]\n"
     ]
    },
    {
     "name": "stdout",
     "output_type": "stream",
     "text": [
      "Epoch 16: Train Loss = 26.7851, Val Acc = 43.70%\n"
     ]
    },
    {
     "name": "stderr",
     "output_type": "stream",
     "text": [
      "Epoch 17/750: 100%|██████████| 21/21 [00:46<00:00,  2.22s/it]\n"
     ]
    },
    {
     "name": "stdout",
     "output_type": "stream",
     "text": [
      "Epoch 17: Train Loss = 22.2673, Val Acc = 53.33%\n"
     ]
    },
    {
     "name": "stderr",
     "output_type": "stream",
     "text": [
      "Epoch 18/750: 100%|██████████| 21/21 [00:48<00:00,  2.29s/it]\n"
     ]
    },
    {
     "name": "stdout",
     "output_type": "stream",
     "text": [
      "Epoch 18: Train Loss = 19.4050, Val Acc = 57.78%\n",
      "Model saved.\n"
     ]
    },
    {
     "name": "stderr",
     "output_type": "stream",
     "text": [
      "Epoch 19/750: 100%|██████████| 21/21 [00:48<00:00,  2.32s/it]\n"
     ]
    },
    {
     "name": "stdout",
     "output_type": "stream",
     "text": [
      "Epoch 19: Train Loss = 16.6324, Val Acc = 56.30%\n"
     ]
    },
    {
     "name": "stderr",
     "output_type": "stream",
     "text": [
      "Epoch 20/750: 100%|██████████| 21/21 [00:46<00:00,  2.20s/it]\n"
     ]
    },
    {
     "name": "stdout",
     "output_type": "stream",
     "text": [
      "Epoch 20: Train Loss = 14.7460, Val Acc = 54.07%\n"
     ]
    },
    {
     "name": "stderr",
     "output_type": "stream",
     "text": [
      "Epoch 21/750: 100%|██████████| 21/21 [00:48<00:00,  2.30s/it]\n"
     ]
    },
    {
     "name": "stdout",
     "output_type": "stream",
     "text": [
      "Epoch 21: Train Loss = 14.6343, Val Acc = 58.52%\n",
      "Model saved.\n"
     ]
    },
    {
     "name": "stderr",
     "output_type": "stream",
     "text": [
      "Epoch 22/750: 100%|██████████| 21/21 [00:48<00:00,  2.30s/it]\n"
     ]
    },
    {
     "name": "stdout",
     "output_type": "stream",
     "text": [
      "Epoch 22: Train Loss = 20.9168, Val Acc = 64.44%\n",
      "Model saved.\n"
     ]
    },
    {
     "name": "stderr",
     "output_type": "stream",
     "text": [
      "Epoch 23/750: 100%|██████████| 21/21 [00:47<00:00,  2.28s/it]\n"
     ]
    },
    {
     "name": "stdout",
     "output_type": "stream",
     "text": [
      "Epoch 23: Train Loss = 13.9050, Val Acc = 56.30%\n"
     ]
    },
    {
     "name": "stderr",
     "output_type": "stream",
     "text": [
      "Epoch 24/750: 100%|██████████| 21/21 [00:48<00:00,  2.29s/it]\n"
     ]
    },
    {
     "name": "stdout",
     "output_type": "stream",
     "text": [
      "Epoch 24: Train Loss = 14.2261, Val Acc = 62.96%\n"
     ]
    },
    {
     "name": "stderr",
     "output_type": "stream",
     "text": [
      "Epoch 25/750: 100%|██████████| 21/21 [00:48<00:00,  2.31s/it]\n"
     ]
    },
    {
     "name": "stdout",
     "output_type": "stream",
     "text": [
      "Epoch 25: Train Loss = 13.0603, Val Acc = 65.19%\n",
      "Model saved.\n"
     ]
    },
    {
     "name": "stderr",
     "output_type": "stream",
     "text": [
      "Epoch 26/750: 100%|██████████| 21/21 [00:47<00:00,  2.26s/it]\n"
     ]
    },
    {
     "name": "stdout",
     "output_type": "stream",
     "text": [
      "Epoch 26: Train Loss = 11.6866, Val Acc = 65.93%\n",
      "Model saved.\n"
     ]
    },
    {
     "name": "stderr",
     "output_type": "stream",
     "text": [
      "Epoch 27/750: 100%|██████████| 21/21 [00:48<00:00,  2.32s/it]\n"
     ]
    },
    {
     "name": "stdout",
     "output_type": "stream",
     "text": [
      "Epoch 27: Train Loss = 9.5368, Val Acc = 66.67%\n",
      "Model saved.\n"
     ]
    },
    {
     "name": "stderr",
     "output_type": "stream",
     "text": [
      "Epoch 28/750: 100%|██████████| 21/21 [00:46<00:00,  2.22s/it]\n"
     ]
    },
    {
     "name": "stdout",
     "output_type": "stream",
     "text": [
      "Epoch 28: Train Loss = 7.8116, Val Acc = 68.15%\n",
      "Model saved.\n"
     ]
    },
    {
     "name": "stderr",
     "output_type": "stream",
     "text": [
      "Epoch 29/750: 100%|██████████| 21/21 [00:46<00:00,  2.22s/it]\n"
     ]
    },
    {
     "name": "stdout",
     "output_type": "stream",
     "text": [
      "Epoch 29: Train Loss = 14.4068, Val Acc = 62.96%\n"
     ]
    },
    {
     "name": "stderr",
     "output_type": "stream",
     "text": [
      "Epoch 30/750: 100%|██████████| 21/21 [00:46<00:00,  2.21s/it]\n"
     ]
    },
    {
     "name": "stdout",
     "output_type": "stream",
     "text": [
      "Epoch 30: Train Loss = 9.6348, Val Acc = 63.70%\n"
     ]
    },
    {
     "name": "stderr",
     "output_type": "stream",
     "text": [
      "Epoch 31/750: 100%|██████████| 21/21 [00:46<00:00,  2.23s/it]\n"
     ]
    },
    {
     "name": "stdout",
     "output_type": "stream",
     "text": [
      "Epoch 31: Train Loss = 6.3520, Val Acc = 62.22%\n"
     ]
    },
    {
     "name": "stderr",
     "output_type": "stream",
     "text": [
      "Epoch 32/750: 100%|██████████| 21/21 [00:47<00:00,  2.25s/it]\n"
     ]
    },
    {
     "name": "stdout",
     "output_type": "stream",
     "text": [
      "Epoch 32: Train Loss = 9.0977, Val Acc = 57.78%\n"
     ]
    },
    {
     "name": "stderr",
     "output_type": "stream",
     "text": [
      "Epoch 33/750: 100%|██████████| 21/21 [00:47<00:00,  2.25s/it]\n"
     ]
    },
    {
     "name": "stdout",
     "output_type": "stream",
     "text": [
      "Epoch 33: Train Loss = 6.3970, Val Acc = 62.96%\n"
     ]
    },
    {
     "name": "stderr",
     "output_type": "stream",
     "text": [
      "Epoch 34/750: 100%|██████████| 21/21 [00:48<00:00,  2.30s/it]\n"
     ]
    },
    {
     "name": "stdout",
     "output_type": "stream",
     "text": [
      "Epoch 34: Train Loss = 10.1947, Val Acc = 67.41%\n"
     ]
    },
    {
     "name": "stderr",
     "output_type": "stream",
     "text": [
      "Epoch 35/750: 100%|██████████| 21/21 [00:47<00:00,  2.26s/it]\n"
     ]
    },
    {
     "name": "stdout",
     "output_type": "stream",
     "text": [
      "Epoch 35: Train Loss = 3.5656, Val Acc = 74.81%\n",
      "Model saved.\n"
     ]
    },
    {
     "name": "stderr",
     "output_type": "stream",
     "text": [
      "Epoch 36/750: 100%|██████████| 21/21 [00:48<00:00,  2.33s/it]\n"
     ]
    },
    {
     "name": "stdout",
     "output_type": "stream",
     "text": [
      "Epoch 36: Train Loss = 3.8807, Val Acc = 71.85%\n"
     ]
    },
    {
     "name": "stderr",
     "output_type": "stream",
     "text": [
      "Epoch 37/750: 100%|██████████| 21/21 [00:49<00:00,  2.33s/it]\n"
     ]
    },
    {
     "name": "stdout",
     "output_type": "stream",
     "text": [
      "Epoch 37: Train Loss = 2.5422, Val Acc = 71.85%\n"
     ]
    },
    {
     "name": "stderr",
     "output_type": "stream",
     "text": [
      "Epoch 38/750: 100%|██████████| 21/21 [00:47<00:00,  2.26s/it]\n"
     ]
    },
    {
     "name": "stdout",
     "output_type": "stream",
     "text": [
      "Epoch 38: Train Loss = 1.0473, Val Acc = 70.37%\n"
     ]
    },
    {
     "name": "stderr",
     "output_type": "stream",
     "text": [
      "Epoch 39/750: 100%|██████████| 21/21 [00:48<00:00,  2.31s/it]\n"
     ]
    },
    {
     "name": "stdout",
     "output_type": "stream",
     "text": [
      "Epoch 39: Train Loss = 0.5767, Val Acc = 71.11%\n"
     ]
    },
    {
     "name": "stderr",
     "output_type": "stream",
     "text": [
      "Epoch 40/750: 100%|██████████| 21/21 [00:47<00:00,  2.24s/it]\n"
     ]
    },
    {
     "name": "stdout",
     "output_type": "stream",
     "text": [
      "Epoch 40: Train Loss = 0.3763, Val Acc = 74.81%\n"
     ]
    },
    {
     "name": "stderr",
     "output_type": "stream",
     "text": [
      "Epoch 41/750: 100%|██████████| 21/21 [00:46<00:00,  2.24s/it]\n"
     ]
    },
    {
     "name": "stdout",
     "output_type": "stream",
     "text": [
      "Epoch 41: Train Loss = 0.4595, Val Acc = 74.81%\n"
     ]
    },
    {
     "name": "stderr",
     "output_type": "stream",
     "text": [
      "Epoch 42/750: 100%|██████████| 21/21 [00:48<00:00,  2.32s/it]\n"
     ]
    },
    {
     "name": "stdout",
     "output_type": "stream",
     "text": [
      "Epoch 42: Train Loss = 0.2660, Val Acc = 78.52%\n",
      "Model saved.\n"
     ]
    },
    {
     "name": "stderr",
     "output_type": "stream",
     "text": [
      "Epoch 43/750: 100%|██████████| 21/21 [00:48<00:00,  2.30s/it]\n"
     ]
    },
    {
     "name": "stdout",
     "output_type": "stream",
     "text": [
      "Epoch 43: Train Loss = 0.1221, Val Acc = 79.26%\n",
      "Model saved.\n"
     ]
    },
    {
     "name": "stderr",
     "output_type": "stream",
     "text": [
      "Epoch 44/750: 100%|██████████| 21/21 [00:48<00:00,  2.29s/it]\n"
     ]
    },
    {
     "name": "stdout",
     "output_type": "stream",
     "text": [
      "Epoch 44: Train Loss = 0.0828, Val Acc = 77.78%\n"
     ]
    },
    {
     "name": "stderr",
     "output_type": "stream",
     "text": [
      "Epoch 45/750: 100%|██████████| 21/21 [00:49<00:00,  2.34s/it]\n"
     ]
    },
    {
     "name": "stdout",
     "output_type": "stream",
     "text": [
      "Epoch 45: Train Loss = 0.0880, Val Acc = 78.52%\n"
     ]
    },
    {
     "name": "stderr",
     "output_type": "stream",
     "text": [
      "Epoch 46/750: 100%|██████████| 21/21 [00:47<00:00,  2.25s/it]\n"
     ]
    },
    {
     "name": "stdout",
     "output_type": "stream",
     "text": [
      "Epoch 46: Train Loss = 0.0668, Val Acc = 79.26%\n"
     ]
    },
    {
     "name": "stderr",
     "output_type": "stream",
     "text": [
      "Epoch 47/750: 100%|██████████| 21/21 [00:47<00:00,  2.26s/it]\n"
     ]
    },
    {
     "name": "stdout",
     "output_type": "stream",
     "text": [
      "Epoch 47: Train Loss = 0.1008, Val Acc = 79.26%\n"
     ]
    },
    {
     "name": "stderr",
     "output_type": "stream",
     "text": [
      "Epoch 48/750: 100%|██████████| 21/21 [00:48<00:00,  2.31s/it]\n"
     ]
    },
    {
     "name": "stdout",
     "output_type": "stream",
     "text": [
      "Epoch 48: Train Loss = 0.0865, Val Acc = 75.56%\n"
     ]
    },
    {
     "name": "stderr",
     "output_type": "stream",
     "text": [
      "Epoch 49/750: 100%|██████████| 21/21 [00:49<00:00,  2.34s/it]\n"
     ]
    },
    {
     "name": "stdout",
     "output_type": "stream",
     "text": [
      "Epoch 49: Train Loss = 0.0830, Val Acc = 77.04%\n"
     ]
    },
    {
     "name": "stderr",
     "output_type": "stream",
     "text": [
      "Epoch 50/750: 100%|██████████| 21/21 [00:50<00:00,  2.38s/it]\n"
     ]
    },
    {
     "name": "stdout",
     "output_type": "stream",
     "text": [
      "Epoch 50: Train Loss = 0.0560, Val Acc = 77.78%\n"
     ]
    },
    {
     "name": "stderr",
     "output_type": "stream",
     "text": [
      "Epoch 51/750: 100%|██████████| 21/21 [00:48<00:00,  2.33s/it]\n"
     ]
    },
    {
     "name": "stdout",
     "output_type": "stream",
     "text": [
      "Epoch 51: Train Loss = 0.0824, Val Acc = 77.78%\n"
     ]
    },
    {
     "name": "stderr",
     "output_type": "stream",
     "text": [
      "Epoch 52/750: 100%|██████████| 21/21 [00:46<00:00,  2.22s/it]\n"
     ]
    },
    {
     "name": "stdout",
     "output_type": "stream",
     "text": [
      "Epoch 52: Train Loss = 0.0580, Val Acc = 79.26%\n"
     ]
    },
    {
     "name": "stderr",
     "output_type": "stream",
     "text": [
      "Epoch 53/750: 100%|██████████| 21/21 [00:47<00:00,  2.25s/it]\n"
     ]
    },
    {
     "name": "stdout",
     "output_type": "stream",
     "text": [
      "Epoch 53: Train Loss = 0.0553, Val Acc = 79.26%\n",
      "Early stopping triggered at epoch 53. Best epoch was 43.\n"
     ]
    },
    {
     "data": {
      "image/png": "[encoded data removed]",
      "text/plain": [
       "<Figure size 640x480 with 2 Axes>"
      ]
     },
     "metadata": {},
     "output_type": "display_data"
    },
    {
     "data": {
      "image/png": "[encoded data removed]",
      "text/plain": [
       "<Figure size 1200x500 with 2 Axes>"
      ]
     },
     "metadata": {},
     "output_type": "display_data"
    }
   ],
   "source": [
    "df = load_dataset(DATASET_PATH)\n",
    "train_df, val_df = train_test_split(df, stratify=df['label'], test_size=0.1, random_state=42)\n",
    "label_encoder = LabelEncoder()\n",
    "label_encoder.fit(train_df['label'])\n",
    "\n",
    "\n",
    "# Fit scalers on training data\n",
    "all_mfcc = []\n",
    "all_prosodic = []\n",
    "for path in train_df['path']:\n",
    "    waveform, sr = torchaudio.load(path)\n",
    "    if sr != SAMPLE_RATE:\n",
    "        waveform = T.Resample(sr, SAMPLE_RATE)(waveform)\n",
    "    mfcc = extract_mfcc_sequence(waveform)\n",
    "    prosodic = extract_prosodic_features(waveform)\n",
    "    all_mfcc.append(mfcc.cpu().numpy())\n",
    "    all_prosodic.append(prosodic.numpy())\n",
    "all_mfcc_flat = np.concatenate([m for m in all_mfcc], axis=0)\n",
    "scaler = StandardScaler().fit(all_mfcc_flat)\n",
    "prosodic_scaler = StandardScaler().fit(np.stack(all_prosodic))\n",
    "\n",
    "train_dataset = SERDataset(train_df, label_encoder, scaler, prosodic_scaler)\n",
    "val_dataset = SERDataset(val_df, label_encoder, scaler, prosodic_scaler)\n",
    "train_loader = DataLoader(train_dataset, batch_size=BATCH_SIZE, shuffle=True, collate_fn=collate_fn)\n",
    "val_loader = DataLoader(val_dataset, batch_size=BATCH_SIZE, shuffle=False, collate_fn=collate_fn)\n",
    "\n",
    "model = HybridLSTMTransformer(num_classes=len(label_encoder.classes_)).to(device)\n",
    "criterion = nn.CrossEntropyLoss()\n",
    "optimizer = optim.SGD(model.parameters(), lr=LEARNING_RATE, momentum=0.9)\n",
    "scheduler = torch.optim.lr_scheduler.ReduceLROnPlateau(optimizer, mode='max', factor=0.5, patience=5)\n",
    "\n",
    "train_model(model, train_loader, val_loader, criterion, optimizer)"
   ]
  },
  {
   "cell_type": "code",
   "execution_count": 15,
   "id": "a439190e",
   "metadata": {},
   "outputs": [
    {
     "name": "stdout",
     "output_type": "stream",
     "text": [
      "              precision    recall  f1-score   support\n",
      "\n",
      "       angry       0.84      0.84      0.84        19\n",
      "        calm       0.89      0.84      0.86        19\n",
      "     disgust       0.78      0.74      0.76        19\n",
      "        fear       0.79      0.75      0.77        20\n",
      "       happy       0.65      0.79      0.71        19\n",
      "         sad       0.88      0.79      0.83        19\n",
      "   surprised       0.76      0.80      0.78        20\n",
      "\n",
      "    accuracy                           0.79       135\n",
      "   macro avg       0.80      0.79      0.79       135\n",
      "weighted avg       0.80      0.79      0.79       135\n",
      "\n"
     ]
    }
   ],
   "source": [
    "from sklearn.metrics import classification_report\n",
    "\n",
    "# Get predictions and true labels for the validation set\n",
    "model.eval()\n",
    "all_preds = []\n",
    "all_labels = []\n",
    "with torch.no_grad():\n",
    "    for x, p, y in val_loader:\n",
    "        x, p = x.to(device), p.to(device)\n",
    "        outputs = model(x, p)\n",
    "        preds = outputs.argmax(dim=1).cpu().numpy()\n",
    "        all_preds.extend(preds)\n",
    "        all_labels.extend(y.numpy())\n",
    "\n",
    "# Generate classification report\n",
    "report = classification_report(all_labels, all_preds, target_names=label_encoder.classes_)\n",
    "print(report)"
   ]
  }
 ],
 "metadata": {
  "kernelspec": {
   "display_name": "base",
   "language": "python",
   "name": "python3"
  },
  "language_info": {
   "codemirror_mode": {
    "name": "ipython",
    "version": 3
   },
   "file_extension": ".py",
   "mimetype": "text/x-python",
   "name": "python",
   "nbconvert_exporter": "python",
   "pygments_lexer": "ipython3",
   "version": "3.12.3"
  }
 },
 "nbformat": 4,
 "nbformat_minor": 5
}
